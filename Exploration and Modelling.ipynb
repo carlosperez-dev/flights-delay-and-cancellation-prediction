{
 "cells": [
  {
   "cell_type": "markdown",
   "metadata": {
    "id": "XUiN-1uxV0j5"
   },
   "source": [
    "# Case study on flight cancellations"
   ]
  },
  {
   "cell_type": "markdown",
   "metadata": {
    "id": "js92ABk1V0j9"
   },
   "source": [
    "The data source and description: http://stat-computing.org/dataexpo/2009/the-data.html"
   ]
  },
  {
   "cell_type": "code",
   "execution_count": null,
   "metadata": {
    "id": "0nEbC_pLV0j-"
   },
   "outputs": [],
   "source": [
    "import pandas as pd\n",
    "import numpy as np\n",
    "from datetime import datetime\n",
    "from numpy import arang\n",
    "from sklearn.model_selection import GridSearchCV\n",
    "from sklearn.linear_model import Lasso, LinearRegression\n",
    "from sklearn.metrics import mean_squared_error as mse \n",
    "from math import sqrt\n",
    "from sklearn import model_selection\n",
    "from sklearn.model_selection import KFold\n",
    "from sklearn.decomposition import PCA\n",
    "from sklearn.linear_model import Ridge, RidgeCV, LassoCV\n",
    "import matplotlib.pyplot as plt\n",
    "from sklearn.ensemble import RandomForestRegressor\n",
    "from sklearn.model_selection import cross_validate, cross_val_predict\n",
    "from sklearn.model_selection import GridSearchCV\n",
    "from keras.models import Sequential\n",
    "from keras.layers.core import Dense, Activation\n",
    "from sklearn.metrics import mean_squared_error as mse\n",
    "from tensorflow.keras.optimizers import RMSprop, Adam, SGD\n",
    "from sklearn.metrics import auc\n",
    "from sklearn.metrics import confusion_matrix as cm\n",
    "from sklearn.metrics import accuracy_score as accuracy\n",
    "from sklearn.datasets import make_classification\n",
    "from sklearn.model_selection import RepeatedStratifiedKFold\n",
    "from sklearn.ensemble import AdaBoostClassifier"
   ]
  },
  {
   "cell_type": "code",
   "execution_count": null,
   "metadata": {
    "colab": {
     "base_uri": "https://localhost:8080/",
     "height": 237
    },
    "id": "SeOGJv3VV0j_",
    "outputId": "e9393abf-2dd7-4f69-e473-789461f3020d",
    "scrolled": false
   },
   "outputs": [],
   "source": [
    "df = pd.read_csv('flights_2008.csv')\n",
    "df.head()"
   ]
  },
  {
   "cell_type": "markdown",
   "metadata": {
    "id": "TUFAJAM1V0kC"
   },
   "source": [
    "Drop columns with no variability"
   ]
  },
  {
   "cell_type": "code",
   "execution_count": null,
   "metadata": {
    "id": "L-P0WTF-V0kC"
   },
   "outputs": [],
   "source": [
    "df = df.drop(['Unnamed: 0'], axis=1)"
   ]
  },
  {
   "cell_type": "code",
   "execution_count": null,
   "metadata": {
    "id": "R6TPBwiEV0kD"
   },
   "outputs": [],
   "source": [
    "df = df.drop(['Year'], axis=1)"
   ]
  },
  {
   "cell_type": "markdown",
   "metadata": {
    "id": "rC9dJ7CsV0kD"
   },
   "source": [
    "#### Will only be focusing on the carrier with most flights, so narrowing the dataset."
   ]
  },
  {
   "cell_type": "code",
   "execution_count": null,
   "metadata": {
    "id": "J9oNmtipV0kD"
   },
   "outputs": [],
   "source": [
    "df = df.loc[(df['UniqueCarrier']=='WN')]"
   ]
  },
  {
   "cell_type": "code",
   "execution_count": null,
   "metadata": {
    "colab": {
     "base_uri": "https://localhost:8080/"
    },
    "id": "mzeAGcKoV0kE",
    "outputId": "fea40026-5cee-4955-ea30-7a408cba363c"
   },
   "outputs": [],
   "source": [
    "df['Diverted'].value_counts()"
   ]
  },
  {
   "cell_type": "code",
   "execution_count": null,
   "metadata": {
    "colab": {
     "base_uri": "https://localhost:8080/"
    },
    "id": "Si2EnqNPV0kE",
    "outputId": "e461f35a-ce37-4c71-86c3-395d72ea9f2a",
    "scrolled": true
   },
   "outputs": [],
   "source": [
    "df['Cancelled'].value_counts()"
   ]
  },
  {
   "cell_type": "markdown",
   "metadata": {
    "id": "FnlOAjmGV0kE"
   },
   "source": [
    "The number of flights diverted for this airline is extremely unbalance, will perform undersampling, oversampling and SMOTE to counteract - due to lack of computational power unable to perform these however would be beneficial to do so."
   ]
  },
  {
   "cell_type": "markdown",
   "metadata": {
    "id": "OVnh8i48V0kF"
   },
   "source": [
    "## Data preprocessing"
   ]
  },
  {
   "cell_type": "markdown",
   "metadata": {
    "id": "ueZ5OhpjV0kF"
   },
   "source": [
    "Missing values:"
   ]
  },
  {
   "cell_type": "code",
   "execution_count": null,
   "metadata": {
    "colab": {
     "base_uri": "https://localhost:8080/"
    },
    "id": "ITiikOYfV0kF",
    "outputId": "41c6060a-7835-42b8-e4c4-42e827a6cd03"
   },
   "outputs": [],
   "source": [
    "def missing_val_count_by_column(df):\n",
    "    data = (df.isnull().sum())\n",
    "    print(data[data>0])    \n",
    "missing_val_count_by_column(df)"
   ]
  },
  {
   "cell_type": "markdown",
   "metadata": {
    "id": "VNyP1A4bV0kG"
   },
   "source": [
    "#### Missing values, imputation and data transformation"
   ]
  },
  {
   "cell_type": "markdown",
   "metadata": {
    "id": "vOIOc4V5V0kG"
   },
   "source": [
    "We can see that anytime CarrierDelay is null so are all the other delays, implying no delay was recorded. We can change these from NA's to 0."
   ]
  },
  {
   "cell_type": "code",
   "execution_count": null,
   "metadata": {
    "colab": {
     "base_uri": "https://localhost:8080/"
    },
    "id": "DV--hL5TV0kH",
    "outputId": "dac11905-23b6-42ac-dc6e-215118770a28"
   },
   "outputs": [],
   "source": [
    "df['CarrierDelay'].isnull().equals(df['WeatherDelay'].isnull())\n",
    "df['CarrierDelay'].isnull().equals(df['NASDelay'].isnull())\n",
    "df['CarrierDelay'].isnull().equals(df['SecurityDelay'].isnull())\n",
    "df['CarrierDelay'].isnull().equals(df['LateAircraftDelay'].isnull())"
   ]
  },
  {
   "cell_type": "code",
   "execution_count": null,
   "metadata": {
    "id": "b3aAiUUBV0kH"
   },
   "outputs": [],
   "source": [
    "df['CarrierDelay'].fillna(0, inplace=True)\n",
    "df['WeatherDelay'].fillna(0, inplace=True)\n",
    "df['NASDelay'].fillna(0, inplace=True)\n",
    "df['SecurityDelay'].fillna(0, inplace=True)\n",
    "df['LateAircraftDelay'].fillna(0, inplace=True)"
   ]
  },
  {
   "cell_type": "markdown",
   "metadata": {
    "id": "_MGTWs7hV0kI"
   },
   "source": [
    "Ensure it worked:"
   ]
  },
  {
   "cell_type": "code",
   "execution_count": null,
   "metadata": {
    "colab": {
     "base_uri": "https://localhost:8080/"
    },
    "id": "15KuA2x2V0kI",
    "outputId": "bd4d3e56-1e94-4e60-8675-d35e579bc111",
    "scrolled": true
   },
   "outputs": [],
   "source": [
    "missing_val_count_by_column(df)"
   ]
  },
  {
   "cell_type": "markdown",
   "metadata": {
    "id": "kWzBJZsMV0kI"
   },
   "source": [
    "Should arrival Time be imputed?"
   ]
  },
  {
   "cell_type": "code",
   "execution_count": null,
   "metadata": {
    "colab": {
     "base_uri": "https://localhost:8080/",
     "height": 524
    },
    "id": "X_USZzLvV0kI",
    "outputId": "2113da65-c769-40f0-9650-a6b9f60abaf4",
    "scrolled": false
   },
   "outputs": [],
   "source": [
    "df_no_arrivals = df.loc[df['ArrTime'].isnull()]\n",
    "df_no_arrivals.iloc[:15,3:18]"
   ]
  },
  {
   "cell_type": "code",
   "execution_count": null,
   "metadata": {
    "colab": {
     "base_uri": "https://localhost:8080/"
    },
    "id": "tVFx34fiV0kJ",
    "outputId": "f2315647-b4e8-4a4c-b9f0-5b5d8d57e3e6",
    "scrolled": true
   },
   "outputs": [],
   "source": [
    "df_no_arrivals['Diverted'].value_counts()"
   ]
  },
  {
   "cell_type": "code",
   "execution_count": null,
   "metadata": {
    "colab": {
     "base_uri": "https://localhost:8080/"
    },
    "id": "sa0RIP9YV0kJ",
    "outputId": "67697148-4cf4-45b6-cfda-4fb5aaf313c6",
    "scrolled": false
   },
   "outputs": [],
   "source": [
    "df_no_arrivals['Cancelled'].value_counts()"
   ]
  },
  {
   "cell_type": "code",
   "execution_count": null,
   "metadata": {
    "colab": {
     "base_uri": "https://localhost:8080/",
     "height": 497
    },
    "id": "Nn7_LEtbV0kJ",
    "outputId": "cad9ac5f-3e6e-4f38-96b6-4095d9947d25",
    "scrolled": true
   },
   "outputs": [],
   "source": [
    "df_no_arrivals.loc[(df_no_arrivals['Diverted']==1) & (df_no_arrivals['Cancelled'] == 0), ['Diverted', 'Cancelled']]"
   ]
  },
  {
   "cell_type": "code",
   "execution_count": null,
   "metadata": {
    "colab": {
     "base_uri": "https://localhost:8080/",
     "height": 497
    },
    "id": "VpkwYJ2cV0kJ",
    "outputId": "245b07a0-3ded-46ef-d7af-d0a8cc6678ec",
    "scrolled": true
   },
   "outputs": [],
   "source": [
    "df.loc[(df['Diverted']==1) & (df['ArrTime'] > 0), ['FlightNum','Diverted', 'ArrTime', 'CRSArrTime', 'Origin','Dest','UniqueCarrier', 'ArrDelay', 'DepDelay', 'CarrierDelay', 'WeatherDelay','NASDelay','WeatherDelay', 'SecurityDelay', 'LateAircraftDelay' ]]"
   ]
  },
  {
   "cell_type": "markdown",
   "metadata": {
    "id": "puleQkb8V0kK"
   },
   "source": [
    "Formulas are: \n",
    "<ul>\n",
    "    <li><b>ArrDelay</b> = ArrTime - CRSArrTime</li>\n",
    "    <li><b>ActualElapsedTime</b> = ArrTime - DepTime</li>\n",
    "    <li><b>AirTime</b> = ActualElapsedTime - (TaxiIn + TaxiOut)</li>\n",
    "</ul>\n",
    "To get the ArrDelay I will first make a two date columns which have arrival and departure date."
   ]
  },
  {
   "cell_type": "markdown",
   "metadata": {
    "id": "LNavcLZeV0kL"
   },
   "source": [
    "New dataframe for diverted flights with an arrival time"
   ]
  },
  {
   "cell_type": "code",
   "execution_count": null,
   "metadata": {
    "id": "5KMBl3W-V0kL",
    "scrolled": true
   },
   "outputs": [],
   "source": [
    "df_arrdelay = df.loc[(df['Diverted']==1) & (df['ArrTime'] > 0), [ 'ArrTime', 'CRSArrTime', 'ArrDelay', 'DepTime', 'ActualElapsedTime', 'AirTime', 'TaxiIn', 'TaxiOut']]"
   ]
  },
  {
   "cell_type": "code",
   "execution_count": null,
   "metadata": {
    "colab": {
     "base_uri": "https://localhost:8080/"
    },
    "id": "2wusgCrlV0kM",
    "outputId": "18e877f7-d029-47b8-b160-f3b3bd2ea15e"
   },
   "outputs": [],
   "source": [
    "missing_val_count_by_column(df_arrdelay)"
   ]
  },
  {
   "cell_type": "markdown",
   "metadata": {
    "id": "y1d5_WBPV0kN"
   },
   "source": [
    "Will impute 190 values."
   ]
  },
  {
   "cell_type": "code",
   "execution_count": null,
   "metadata": {
    "id": "yZFB79_dV0kO"
   },
   "outputs": [],
   "source": [
    "def makeFloatToStr(df, column):\n",
    "    df[column] = df[column].astype(int)\n",
    "    df[column] = df[column].astype(str)"
   ]
  },
  {
   "cell_type": "code",
   "execution_count": null,
   "metadata": {},
   "outputs": [],
   "source": [
    "makeFloatToStr(df_arrdelay,'CRSArrTime')\n",
    "makeFloatToStr(df_arrdelay,'ArrTime')\n",
    "makeFloatToStr(df_arrdelay,'DepTime')"
   ]
  },
  {
   "cell_type": "markdown",
   "metadata": {
    "id": "BC9A0DFkV0kO"
   },
   "source": [
    "Make strings have 4 characters, such that any time value with 3 gets an extra zero in front to become 4."
   ]
  },
  {
   "cell_type": "code",
   "execution_count": null,
   "metadata": {
    "id": "FvomKUp6V0kP"
   },
   "outputs": [],
   "source": [
    "def standariseTime(df,column):\n",
    "    df[column] = df[column].where(df[column].str.len().ne(3),df[column].astype(str).str.zfill(4))\n",
    "    df[column] = df[column].where(df[column].str.len().ne(2),df[column].astype(str).str.zfill(4))\n",
    "    df[column] = df[column].where(df[column].str.len().ne(1),df[column].astype(str).str.zfill(4))"
   ]
  },
  {
   "cell_type": "code",
   "execution_count": null,
   "metadata": {},
   "outputs": [],
   "source": [
    "standariseTime(df_arrdelay, 'ArrTime')\n",
    "standariseTime(df_arrdelay, 'CRSArrTime')\n",
    "standariseTime(df_arrdelay, 'DepTime')"
   ]
  },
  {
   "cell_type": "markdown",
   "metadata": {
    "id": "x9xx7ytLV0kP"
   },
   "source": [
    "#### We now change the ArrTime and CRSArrTime to times, then make the arrival time one day later if its lower than expected arrival time."
   ]
  },
  {
   "cell_type": "code",
   "execution_count": null,
   "metadata": {
    "id": "GTCtt-kyV0kQ"
   },
   "outputs": [],
   "source": [
    "def makeTimeToDatetime(df, column):\n",
    "    df[column] = pd.to_datetime(df[column],format= '%H%M', errors='coerce')"
   ]
  },
  {
   "cell_type": "code",
   "execution_count": null,
   "metadata": {},
   "outputs": [],
   "source": [
    "makeTimeToDatetime(df_arrdelay,'ArrTime')\n",
    "makeTimeToDatetime(df_arrdelay,'CRSArrTime')"
   ]
  },
  {
   "cell_type": "markdown",
   "metadata": {
    "id": "l1QmfeXTV0kR"
   },
   "source": [
    "If a flight arrived at a time that is before the expected arrival time, it implies the flight arrived the following day; hence add a day to the Arrival Time."
   ]
  },
  {
   "cell_type": "code",
   "execution_count": null,
   "metadata": {
    "id": "y78f3IKHV0kR"
   },
   "outputs": [],
   "source": [
    "def compareDates(df,actual,expected):\n",
    "    for i in range(len(df)):\n",
    "        if (df[actual].iloc[i] < df[expected].iloc[i]):\n",
    "            df[actual].iloc[i] = df[actual].iloc[i] + pd.to_timedelta(1,unit='d')\n",
    "    return df"
   ]
  },
  {
   "cell_type": "code",
   "execution_count": null,
   "metadata": {
    "colab": {
     "base_uri": "https://localhost:8080/",
     "height": 909
    },
    "id": "-gYeSBDAV0kR",
    "outputId": "2c5b7d00-ae9f-4e64-9aee-2ce5293f7598"
   },
   "outputs": [],
   "source": [
    "compareDates(df_arrdelay,'ArrTime','CRSArrTime')"
   ]
  },
  {
   "cell_type": "markdown",
   "metadata": {
    "id": "D6H0A3QGV0kR"
   },
   "source": [
    "Now I get the difference between ArrTime and expected arrival time and input into new colum 'string'"
   ]
  },
  {
   "cell_type": "code",
   "execution_count": null,
   "metadata": {
    "id": "axgu3nPPV0kS"
   },
   "outputs": [],
   "source": [
    "def timeDifference(df,column1, column2, diffTime, diffString):\n",
    "    df[diffTime] = df[column1] - df[column2]\n",
    "    df[diffString] = df[diffTime].dt.seconds/60"
   ]
  },
  {
   "cell_type": "code",
   "execution_count": null,
   "metadata": {
    "id": "ti86jei0V0kS"
   },
   "outputs": [],
   "source": [
    "timeDifference(df_arrdelay, 'ArrTime', 'CRSArrTime','ArrDelay', 'string')"
   ]
  },
  {
   "cell_type": "markdown",
   "metadata": {
    "id": "bEoORMMkV0kS"
   },
   "source": [
    "#### Now I will repeat the process but to find ActualElapsedTime (arrtime - deptime)"
   ]
  },
  {
   "cell_type": "markdown",
   "metadata": {
    "id": "JoubMrTyV0kS"
   },
   "source": [
    "<ol>\n",
    "    <li>Make dep time into a timestamp </li>\n",
    "    <li>Subtract arrtime from deptime.</li>\n",
    "    <li>Make a new column with the string value in minutes.</li>\n",
    "</ol>"
   ]
  },
  {
   "cell_type": "code",
   "execution_count": null,
   "metadata": {
    "id": "v-NIOtAJV0kS"
   },
   "outputs": [],
   "source": [
    "makeTimeToDatetime(df_arrdelay,'DepTime')\n",
    "timeDifference(df_arrdelay, 'ArrTime', 'DepTime','ActualElapsedTime', 'string2')"
   ]
  },
  {
   "cell_type": "markdown",
   "metadata": {
    "id": "XNM0Gzy4V0kS"
   },
   "source": [
    "Calculate AirTime"
   ]
  },
  {
   "cell_type": "code",
   "execution_count": null,
   "metadata": {
    "id": "JGgrhZVgV0kS"
   },
   "outputs": [],
   "source": [
    "df_arrdelay['AirTime2'] = df_arrdelay['string2'] - (df_arrdelay['TaxiIn']+df_arrdelay['TaxiOut'])"
   ]
  },
  {
   "cell_type": "markdown",
   "metadata": {
    "id": "KQJyhd6lV0kT"
   },
   "source": [
    "Add Arrival Delay and Actual Elapsed Time to the main dataset - Expected to decrease missing values for ArrDelay and ActualElapsed time from 1401 to 1211"
   ]
  },
  {
   "cell_type": "code",
   "execution_count": null,
   "metadata": {
    "id": "tWKkhfsMV0kT"
   },
   "outputs": [],
   "source": [
    "df = df.join(df_arrdelay['string'])\n",
    "df = df.join(df_arrdelay['string2'])\n",
    "df = df.join(df_arrdelay['AirTime2'])"
   ]
  },
  {
   "cell_type": "code",
   "execution_count": null,
   "metadata": {
    "colab": {
     "base_uri": "https://localhost:8080/"
    },
    "id": "sJM9lWUUV0kT",
    "outputId": "0f45f86c-e1fb-4fe3-8bfc-af67e1638e29",
    "scrolled": true
   },
   "outputs": [],
   "source": [
    "print(df['ArrDelay'].isnull().sum())\n",
    "print(df['ActualElapsedTime'].isnull().sum())\n",
    "print(df['AirTime'].isnull().sum())"
   ]
  },
  {
   "cell_type": "code",
   "execution_count": null,
   "metadata": {
    "id": "tZ83sA1pV0kT"
   },
   "outputs": [],
   "source": [
    "def replaceNewValues(df,replaceTo, replaceFrom):\n",
    "    df[replaceTo] = np.where(df[replaceTo].isnull(), df[replaceFrom] ,df[replaceTo])"
   ]
  },
  {
   "cell_type": "code",
   "execution_count": null,
   "metadata": {
    "id": "AQSSnLx_V0kT"
   },
   "outputs": [],
   "source": [
    "replaceNewValues(df,'ArrDelay', 'string')\n",
    "replaceNewValues(df,'ActualElapsedTime', 'string2')\n",
    "replaceNewValues(df,'AirTime', 'AirTime2')\n",
    "\n",
    "df = df.drop(['string'], axis=1)\n",
    "df = df.drop(['string2'], axis=1)\n",
    "df = df.drop(['AirTime2'], axis=1)"
   ]
  },
  {
   "cell_type": "code",
   "execution_count": null,
   "metadata": {
    "colab": {
     "base_uri": "https://localhost:8080/"
    },
    "id": "qcAC0IXAV0kT",
    "outputId": "a7877227-72f1-445c-bbfe-a3c78594e2d2"
   },
   "outputs": [],
   "source": [
    "df['ArrDelay'].describe()"
   ]
  },
  {
   "cell_type": "markdown",
   "metadata": {
    "id": "eueYz09FV0kU"
   },
   "source": [
    "#### Reassess arrival delay variable"
   ]
  },
  {
   "cell_type": "code",
   "execution_count": null,
   "metadata": {
    "colab": {
     "base_uri": "https://localhost:8080/"
    },
    "id": "k65-PkHuV0kU",
    "outputId": "57b1b0ed-f6e6-4cc8-cd20-275a8a2049ab",
    "scrolled": true
   },
   "outputs": [],
   "source": [
    "df['ArrDelay'].isnull().sum()"
   ]
  },
  {
   "cell_type": "code",
   "execution_count": null,
   "metadata": {
    "colab": {
     "base_uri": "https://localhost:8080/"
    },
    "id": "7InDWzFPV0kU",
    "outputId": "74dfbfa7-8b34-4091-94aa-258093e6790b",
    "scrolled": true
   },
   "outputs": [],
   "source": [
    "missing_val_count_by_column(df)"
   ]
  },
  {
   "cell_type": "code",
   "execution_count": null,
   "metadata": {
    "colab": {
     "base_uri": "https://localhost:8080/",
     "height": 221
    },
    "id": "8EcDHltnV0kU",
    "outputId": "c90d8b30-575c-4cc8-aac1-a9e12bbb1718"
   },
   "outputs": [],
   "source": [
    "df.head()"
   ]
  },
  {
   "cell_type": "markdown",
   "metadata": {},
   "source": [
    "#### Save dataframe to use for binary classification of cancelled flights"
   ]
  },
  {
   "cell_type": "code",
   "execution_count": null,
   "metadata": {
    "id": "saSO8QkdV0kU"
   },
   "outputs": [],
   "source": [
    "#df.to_csv('Flight_Data_Cancellation.csv')"
   ]
  },
  {
   "cell_type": "markdown",
   "metadata": {
    "id": "JTYa3tMwV0kU"
   },
   "source": [
    "Given that flights that don't have a time of arrival are either cancelled or diverted. It is safe to assume that they did not make it to the final destination, hence cannot use for delay. (Perhaps they should count as cancelled). For this reason will remove these rows."
   ]
  },
  {
   "cell_type": "code",
   "execution_count": null,
   "metadata": {
    "id": "CFPjhE1TV0kU"
   },
   "outputs": [],
   "source": [
    "to_keep = pd.notnull(df[\"ArrDelay\"])\n",
    "df = df.loc[to_keep,:].copy()"
   ]
  },
  {
   "cell_type": "code",
   "execution_count": null,
   "metadata": {
    "colab": {
     "base_uri": "https://localhost:8080/"
    },
    "id": "ncJansIwV0kV",
    "outputId": "ab187552-78a7-4105-eb01-8655490a20d0"
   },
   "outputs": [],
   "source": [
    "df['ArrDelay'].isnull().sum()"
   ]
  },
  {
   "cell_type": "markdown",
   "metadata": {
    "id": "y-p3d8ZDV0kV"
   },
   "source": [
    "No more missing values are in the data.\n",
    "As we are interested in forecasting future delays, we must remove all the columns that realistically are impossible to know prior to a flight taking off. We will assume that the information the airline has is the day before the flight departs implying ex-ante forecast."
   ]
  },
  {
   "cell_type": "code",
   "execution_count": null,
   "metadata": {
    "id": "TQIexbSmV0kV"
   },
   "outputs": [],
   "source": [
    "def remove_columns(dataset, to_remove):\n",
    "    purchase_data = dataset.copy()  \n",
    "    purchase_data = dataset.drop(to_remove, axis=1)\n",
    "    return purchase_data\n",
    "\n",
    "to_remove = ['UniqueCarrier', 'DepTime','DepDelay','TaxiOut', 'ActualElapsedTime', 'AirTime', 'ArrTime', 'TaxiIn', 'Cancelled', 'CancellationCode', 'CarrierDelay', 'WeatherDelay', 'NASDelay', 'SecurityDelay', 'LateAircraftDelay', 'Diverted']\n",
    "df = remove_columns(df, to_remove)"
   ]
  },
  {
   "cell_type": "markdown",
   "metadata": {
    "id": "ZBDZzr7vV0kV"
   },
   "source": [
    "Convert CRSDepTime and CRSArrTime to Hour and make into bins"
   ]
  },
  {
   "cell_type": "code",
   "execution_count": null,
   "metadata": {
    "id": "bwj8UMapV0kV"
   },
   "outputs": [],
   "source": [
    "def convert_to_hour(df,column_list):\n",
    "    for i in column_list:\n",
    "        df[i] -= df[i] % -100   \n",
    "        df[i] = df[i]/100\n",
    "    return df"
   ]
  },
  {
   "cell_type": "code",
   "execution_count": null,
   "metadata": {
    "colab": {
     "base_uri": "https://localhost:8080/",
     "height": 497
    },
    "id": "XdiiVy0sV0kV",
    "outputId": "056d11a6-ad9e-489c-f72f-e3adbc744cd0"
   },
   "outputs": [],
   "source": [
    "time_to_hours = ['CRSDepTime', 'CRSArrTime']\n",
    "convert_to_hour(df, time_to_hours)"
   ]
  },
  {
   "cell_type": "code",
   "execution_count": null,
   "metadata": {
    "colab": {
     "base_uri": "https://localhost:8080/"
    },
    "id": "fcDzyB4nV0kV",
    "outputId": "37659bca-01c3-4e4b-8ca0-7aa6c6758215"
   },
   "outputs": [],
   "source": [
    "df['CRSDepTime'] = pd.qcut(df['CRSDepTime'], 8)\n",
    "df['CRSDepTime'].value_counts()"
   ]
  },
  {
   "cell_type": "code",
   "execution_count": null,
   "metadata": {
    "colab": {
     "base_uri": "https://localhost:8080/"
    },
    "id": "skwO_2wnV0kV",
    "outputId": "0f2aee70-5d4d-4d53-93cc-482649618295"
   },
   "outputs": [],
   "source": [
    "df['CRSArrTime'] = pd.qcut(df['CRSArrTime'], 8)\n",
    "df['CRSArrTime'].value_counts()"
   ]
  },
  {
   "cell_type": "markdown",
   "metadata": {
    "id": "IzVXsVyZV0kW"
   },
   "source": [
    "Convert TailNum into FleetNum - as per https://www.planespotters.net/airline/Southwest-Airlines fleets are numbered, so higher the fleet the younger it is."
   ]
  },
  {
   "cell_type": "code",
   "execution_count": null,
   "metadata": {
    "id": "GlzItS6oV0kW",
    "scrolled": false
   },
   "outputs": [],
   "source": [
    "df['FleetNum'] = df['TailNum'].str.replace(r'\\D', '').astype(int)"
   ]
  },
  {
   "cell_type": "markdown",
   "metadata": {
    "id": "hVXCoZq5V0kW"
   },
   "source": [
    "Will drop Flight number becasue it won't help generalise results. Will use FleetNum instead of TailNum as a signal of age of fleet/plane. Drop dayofmonth as flights repeat weekly."
   ]
  },
  {
   "cell_type": "code",
   "execution_count": null,
   "metadata": {
    "id": "1oQLFdSYV0kW"
   },
   "outputs": [],
   "source": [
    "df = df.drop(['FlightNum', 'TailNum', 'DayofMonth'], axis=1)"
   ]
  },
  {
   "cell_type": "markdown",
   "metadata": {
    "id": "x5XnCuitV0kW"
   },
   "source": [
    "Make Dummies"
   ]
  },
  {
   "cell_type": "code",
   "execution_count": null,
   "metadata": {
    "id": "Y-DmJmtQV0kW"
   },
   "outputs": [],
   "source": [
    "def make_dummies(df,column,prefix):\n",
    "    toMerge= pd.get_dummies(df[column], prefix=prefix)\n",
    "    df = df.join(toMerge)\n",
    "    df = df.drop([column], axis=1)\n",
    "    return df"
   ]
  },
  {
   "cell_type": "code",
   "execution_count": null,
   "metadata": {
    "id": "UIb8XVL3V0kW"
   },
   "outputs": [],
   "source": [
    "df = make_dummies(df,'Origin','Origin_')"
   ]
  },
  {
   "cell_type": "code",
   "execution_count": null,
   "metadata": {
    "id": "C1ehJGKBV0kW"
   },
   "outputs": [],
   "source": [
    "df = make_dummies(df,'Month','Month_')"
   ]
  },
  {
   "cell_type": "code",
   "execution_count": null,
   "metadata": {
    "id": "TDMusloGV0kW"
   },
   "outputs": [],
   "source": [
    "df = make_dummies(df,'Dest','Dest_')"
   ]
  },
  {
   "cell_type": "code",
   "execution_count": null,
   "metadata": {
    "id": "_Pxo3E7PV0kW"
   },
   "outputs": [],
   "source": [
    "df = make_dummies(df,'DayOfWeek','Day_')"
   ]
  },
  {
   "cell_type": "code",
   "execution_count": null,
   "metadata": {
    "id": "7ZrjiMLMV0kW",
    "scrolled": true
   },
   "outputs": [],
   "source": [
    "df = make_dummies(df,'CRSDepTime','CRSDepTime_')"
   ]
  },
  {
   "cell_type": "code",
   "execution_count": null,
   "metadata": {
    "id": "FLwSOtKdV0kW"
   },
   "outputs": [],
   "source": [
    "df = make_dummies(df,'CRSArrTime','CRSArrTime_')"
   ]
  },
  {
   "cell_type": "code",
   "execution_count": null,
   "metadata": {
    "id": "ZgEiX6e_V0kX"
   },
   "outputs": [],
   "source": [
    "df['Delayed'] = np.where(df['ArrDelay']>15, 1,0)\n",
    "df.to_csv('Flight_Data_Delay_Classification.csv')\n",
    "df = df.drop(['Delayed'], axis=1)"
   ]
  },
  {
   "cell_type": "markdown",
   "metadata": {
    "id": "gMmrHcE2V0kX"
   },
   "source": [
    "Remove outliers by interquartile method - done to generalise results "
   ]
  },
  {
   "cell_type": "code",
   "execution_count": null,
   "metadata": {
    "id": "nOx9DTVGV0kX"
   },
   "outputs": [],
   "source": [
    "Q1 = df['ArrDelay'].quantile(0.25)\n",
    "Q3 = df['ArrDelay'].quantile(0.75)\n",
    "iqr = Q3 - Q1"
   ]
  },
  {
   "cell_type": "code",
   "execution_count": null,
   "metadata": {
    "id": "fzzrlSB8V0kX"
   },
   "outputs": [],
   "source": [
    "upper_limit = Q3 + 1.5 * iqr\n",
    "lower_limit = Q1 - 1.5 * iqr"
   ]
  },
  {
   "cell_type": "code",
   "execution_count": null,
   "metadata": {
    "colab": {
     "base_uri": "https://localhost:8080/"
    },
    "id": "hYbs50swV0kX",
    "outputId": "c4424b25-cdce-44ad-b744-c865673233e4"
   },
   "outputs": [],
   "source": [
    "df_clean = df[(df['ArrDelay'] < upper_limit) & (df['ArrDelay'] > lower_limit)]\n",
    "print(df_clean.shape)\n",
    "print(df.shape)"
   ]
  },
  {
   "cell_type": "markdown",
   "metadata": {
    "id": "819q7tpBV0kX"
   },
   "source": [
    "# Split the data + Normalisation"
   ]
  },
  {
   "cell_type": "code",
   "execution_count": null,
   "metadata": {
    "id": "TutdXQYBV0kX"
   },
   "outputs": [],
   "source": [
    "from sklearn.model_selection import train_test_split\n",
    "y = df_clean['ArrDelay']\n",
    "X = df_clean.drop('ArrDelay',axis=1)"
   ]
  },
  {
   "cell_type": "code",
   "execution_count": null,
   "metadata": {
    "id": "W9XyxxKRV0kY",
    "scrolled": true
   },
   "outputs": [],
   "source": [
    "X_train, X_test, y_train, y_test = train_test_split(X, y, test_size=0.3, random_state=42)"
   ]
  },
  {
   "cell_type": "code",
   "execution_count": null,
   "metadata": {
    "id": "vqVtL3tDV0kY"
   },
   "outputs": [],
   "source": [
    "def standarise_variable(dataset, variables):\n",
    "    normalised_data = dataset.copy()\n",
    "    from sklearn.preprocessing import StandardScaler\n",
    "    ss = StandardScaler()\n",
    "    norm_data = ss.fit_transform(normalised_data[variables].values)\n",
    "    normalised_data[variables] = norm_data\n",
    "    return normalised_data"
   ]
  },
  {
   "cell_type": "code",
   "execution_count": null,
   "metadata": {
    "id": "JS15g4Z0V0kY"
   },
   "outputs": [],
   "source": [
    "to_normalise_x = ['CRSElapsedTime', 'Distance', 'FleetNum',]   "
   ]
  },
  {
   "cell_type": "code",
   "execution_count": null,
   "metadata": {
    "id": "7Uk62i1kV0kY"
   },
   "outputs": [],
   "source": [
    "X_test_standarized = standarise_variable(X_test, to_normalise_x)"
   ]
  },
  {
   "cell_type": "code",
   "execution_count": null,
   "metadata": {
    "id": "yyBuUsKiV0kY"
   },
   "outputs": [],
   "source": [
    "X_train_standarized = standarise_variable(X_train, to_normalise_x)"
   ]
  },
  {
   "cell_type": "markdown",
   "metadata": {
    "id": "2VudLlXEV0kY"
   },
   "source": [
    "# Modelling"
   ]
  },
  {
   "cell_type": "markdown",
   "metadata": {
    "id": "PAFx7x8eV0kY"
   },
   "source": [
    "Lasso Regression with Cross Validation"
   ]
  },
  {
   "cell_type": "code",
   "execution_count": null,
   "metadata": {
    "colab": {
     "base_uri": "https://localhost:8080/"
    },
    "id": "hZLmKGV2V0kY",
    "outputId": "e1dd9036-541a-4cdd-d0e4-893761478354"
   },
   "outputs": [],
   "source": [
    "ols = LinearRegression().fit(X_train_standarized, y_train)\n",
    "predictions_ols = ols.predict(X_test_standarized)\n",
    "rmse_ols = str(sqrt(mse(y_test,predictions_ols)))\n",
    "lasso = Lasso().fit(X_train_standarized,y_train)\n",
    "prediction_lasso = lasso.predict(X_test_standarized)\n",
    "rmse_lasso = str(sqrt(mse(y_test,prediction_lasso)))\n",
    "print('RMSE OLS : ',rmse_ols)\n",
    "print('RMSE Lasso : ', rmse_lasso)"
   ]
  },
  {
   "cell_type": "markdown",
   "metadata": {
    "id": "dwuNft0KV0kY"
   },
   "source": [
    "Ridge Regression"
   ]
  },
  {
   "cell_type": "code",
   "execution_count": null,
   "metadata": {
    "colab": {
     "base_uri": "https://localhost:8080/"
    },
    "id": "q5O-39HYV0kY",
    "outputId": "d915bf2c-fece-4cd8-b2fe-a0ffddf5e4f5"
   },
   "outputs": [],
   "source": [
    "alphas = 10**np.linspace(10,-10,10)*0.5\n",
    "ridge_cv = RidgeCV(alphas = alphas, scoring = 'neg_mean_squared_error', normalize = False)\n",
    "ridge_cv.fit(X_train_standarized, y_train)\n",
    "ridge_cv.alpha_"
   ]
  },
  {
   "cell_type": "code",
   "execution_count": null,
   "metadata": {
    "colab": {
     "base_uri": "https://localhost:8080/"
    },
    "id": "Z4ShhR4AV0kZ",
    "outputId": "095a837c-098c-4566-a591-cf1418a03be1",
    "scrolled": true
   },
   "outputs": [],
   "source": [
    "ridge4 = Ridge(alpha = ridge_cv.alpha_, normalize = False)\n",
    "ridge4.fit(X_train_standarized, y_train)"
   ]
  },
  {
   "cell_type": "code",
   "execution_count": null,
   "metadata": {
    "colab": {
     "base_uri": "https://localhost:8080/"
    },
    "id": "TWHsdTwkV0kZ",
    "outputId": "358b56ba-cc6e-4fc8-ce29-8b4baa1af70a",
    "scrolled": true
   },
   "outputs": [],
   "source": [
    "print('RMSE:', np.sqrt(mse(y_test, (ridge4.predict(X_test_standarized)))))"
   ]
  },
  {
   "cell_type": "markdown",
   "metadata": {
    "id": "6lnrA2ozV0kZ"
   },
   "source": [
    "Principle Component Regression"
   ]
  },
  {
   "cell_type": "code",
   "execution_count": null,
   "metadata": {
    "id": "jduN-NVZV0kZ"
   },
   "outputs": [],
   "source": [
    "pca = PCA()\n",
    "X_reduced = pca.fit_transform(X_train)\n",
    "cv = KFold(3)\n",
    "regr = LinearRegression()\n",
    "mse = []\n",
    "score = -1*model_selection.cross_val_score(regr,\n",
    "           np.ones((len(X_reduced),1)), y_train, cv=cv,\n",
    "           scoring='neg_mean_squared_error').mean()    \n",
    "mse.append(score)\n",
    "for i in np.arange(1,136,1):\n",
    "    score = -1*model_selection.cross_val_score(regr,\n",
    "               X_reduced[:,:i], y_train, cv=cv, scoring='neg_mean_squared_error').mean()\n",
    "    mse.append(score)  "
   ]
  },
  {
   "cell_type": "code",
   "execution_count": null,
   "metadata": {
    "id": "RdRtfhwuV0kZ",
    "outputId": "f586e34a-13f7-47e7-c41c-550a84c57210",
    "scrolled": true
   },
   "outputs": [],
   "source": [
    "plt.plot(mse)\n",
    "plt.xlabel('Number of Principal Components')\n",
    "plt.ylabel('MSE')\n",
    "plt.title('Cross-validation MSE')"
   ]
  },
  {
   "cell_type": "code",
   "execution_count": null,
   "metadata": {
    "colab": {
     "base_uri": "https://localhost:8080/"
    },
    "id": "RQTfV_bVV0kZ",
    "outputId": "f81475ad-4040-4fb9-9463-f42283978717"
   },
   "outputs": [],
   "source": [
    "pca = PCA()\n",
    "X_reduced_train = pca.fit_transform(X_train)\n",
    "X_reduced_test = pca.transform(X_test)[:,:50]\n",
    "regr = LinearRegression()\n",
    "regr.fit(X_reduced_train[:,:50], y_train)\n",
    "pred = regr.predict(X_reduced_test)\n",
    "print(np.sqrt(mse(y_test, pred)))\n",
    "print(pca.singular_values_)"
   ]
  },
  {
   "cell_type": "code",
   "execution_count": null,
   "metadata": {
    "colab": {
     "base_uri": "https://localhost:8080/"
    },
    "id": "0m4cU6AbV0kZ",
    "outputId": "98f94f06-94c9-4aea-bbb2-e46b067b3a7b"
   },
   "outputs": [],
   "source": [
    "X_reduced_train = pca.fit_transform(X_train)\n",
    "X_reduced_test = pca.transform(X_test)[:,:10]\n",
    "regr = Ridge()\n",
    "regr.fit(X_reduced_train[:,:10], y_train)\n",
    "pred = regr.predict(X_reduced_test)\n",
    "np.sqrt(mean_squared_error(y_test, pred))"
   ]
  },
  {
   "cell_type": "code",
   "execution_count": null,
   "metadata": {
    "colab": {
     "base_uri": "https://localhost:8080/"
    },
    "id": "JoZlDfrKV0kZ",
    "outputId": "f431f036-f34b-4ed0-ebc7-3a92bc03b792"
   },
   "outputs": [],
   "source": [
    "X_reduced_train = pca.fit_transform(X_train)\n",
    "X_reduced_test = pca.transform(X_test)[:,:10]\n",
    "regr = Lasso()\n",
    "regr.fit(X_reduced_train[:,:10], y_train)\n",
    "pred = regr.predict(X_reduced_test)\n",
    "np.sqrt(mean_squared_error(y_test, pred))"
   ]
  },
  {
   "cell_type": "markdown",
   "metadata": {
    "id": "2j4ANk_cV0kZ"
   },
   "source": [
    "Random Forest Regression"
   ]
  },
  {
   "cell_type": "code",
   "execution_count": null,
   "metadata": {
    "id": "JVlj_fzQV0kZ"
   },
   "outputs": [],
   "source": [
    "parameters = {'min_samples_leaf':[1,20,50],'max_depth':[None,10,100]}\n",
    "grid_search = GridSearchCV(RandomForestRegressor(n_estimators=10), parameters, cv=3)\n",
    "grid_search.fit(X_train_standarized, y_train.values.ravel())\n",
    "prediction = grid_search.predict(X_test_standarized)\n",
    "best_classifier = grid_search.best_estimator_\n",
    "print('Best classifier:',best_classifier)\n",
    "np.sqrt(mean_squared_error(y_test, prediction))"
   ]
  },
  {
   "cell_type": "code",
   "execution_count": null,
   "metadata": {
    "colab": {
     "base_uri": "https://localhost:8080/"
    },
    "id": "UHFJFbaYa7A5",
    "outputId": "816b5f18-fe20-464c-f2b4-c054b7453e2f"
   },
   "outputs": [],
   "source": [
    "rf = RandomForestRegressor(n_estimators=50)\n",
    "rf.fit(X_train_standarized, y_train)\n",
    "prediction = rf.predict(X_test_standarized)\n",
    "np.sqrt(mean_squared_error(y_test, prediction))"
   ]
  },
  {
   "cell_type": "code",
   "execution_count": null,
   "metadata": {
    "colab": {
     "base_uri": "https://localhost:8080/"
    },
    "id": "5ylv2oTqV0ka",
    "outputId": "01de8a52-fe1f-46b4-8184-4b1e232cdf61"
   },
   "outputs": [],
   "source": [
    "input_dim = X_train_standarized.shape[1]\n",
    "output_dim = 1\n",
    "model = Sequential()\n",
    "model.add(Dense(50,input_dim=input_dim))\n",
    "model.add(Dense(output_dim))\n",
    "model.compile(optimizer=Adam(),loss='mean_squared_error',metrics=['mean_squared_error'])\n",
    "model.summary()\n",
    "model.fit(X_train_standarized,y_train,epochs=10)\n",
    "prediction = model.predict(X_test_standarized)\n",
    "print('RMSE:', np.sqrt(mse(y_test,prediction)))"
   ]
  },
  {
   "cell_type": "markdown",
   "metadata": {
    "id": "v7WtdwSFV0ka"
   },
   "source": [
    "### Delay Classification"
   ]
  },
  {
   "cell_type": "code",
   "execution_count": null,
   "metadata": {
    "id": "0ZcfVb15V0ka"
   },
   "outputs": [],
   "source": [
    "df = pd.read_csv('Flight_Data_Delay_Classification.csv')\n",
    "df = remove_columns(df,['ArrDelay', 'Unnamed: 0'])\n",
    "y = df['Delayed']\n",
    "X = df.drop('Delayed',axis=1)\n",
    "X_train, X_test, y_train, y_test = train_test_split(X, y, stratify=y, test_size=0.3, random_state=42)"
   ]
  },
  {
   "cell_type": "code",
   "execution_count": null,
   "metadata": {
    "id": "tuC76VxWV0ka"
   },
   "outputs": [],
   "source": [
    "to_normalise_x = ['CRSElapsedTime', 'Distance', 'FleetNum'] \n",
    "X_test_standarized = standarise_variable(X_test, to_normalise_x)\n",
    "X_train_standarized = standarise_variable(X_train, to_normalise_x)"
   ]
  },
  {
   "cell_type": "markdown",
   "metadata": {
    "id": "lR6ZrFzqV0ka"
   },
   "source": [
    "Logistic Model"
   ]
  },
  {
   "cell_type": "code",
   "execution_count": null,
   "metadata": {
    "id": "ka-T2kZsV0kb"
   },
   "outputs": [],
   "source": [
    "logictic_model = LogisticRegression(solver='liblinear').fit(X_train_standarized,y_train)\n",
    "predictions_non_tuned_model = logictic_model.predict(X_test_standarized)"
   ]
  },
  {
   "cell_type": "code",
   "execution_count": null,
   "metadata": {
    "colab": {
     "base_uri": "https://localhost:8080/",
     "height": 344
    },
    "id": "R26YSItxV0kb",
    "outputId": "08f90017-15f3-4b43-dc35-81af587c129b"
   },
   "outputs": [],
   "source": [
    "print(\"Accuracy traditional model: \"+str(accuracy(y_test,predictions_non_tuned_model)))\n",
    "print('AUC:',roc_auc_score(y_test,predictions_non_tuned_model))\n",
    "print('Recall Score:',recall_score(y_test,predictions_non_tuned_model))\n",
    "\n",
    "cm_logi = confusion_matrix(y_test, predictions_non_tuned_model)\n",
    "ConfusionMatrixDisplay(cm_logi).plot()"
   ]
  },
  {
   "cell_type": "markdown",
   "metadata": {
    "id": "NyumtxG1V0kb"
   },
   "source": [
    "AdaBoost"
   ]
  },
  {
   "cell_type": "code",
   "execution_count": null,
   "metadata": {
    "colab": {
     "base_uri": "https://localhost:8080/",
     "height": 344
    },
    "id": "P93tJDkwV0kb",
    "outputId": "0c08a557-5872-4908-f362-e2385f744a36"
   },
   "outputs": [],
   "source": [
    "from sklearn.ensemble import AdaBoostClassifier\n",
    "ada = AdaBoostClassifier(random_state=42)\n",
    "ada.fit(X_train_standarized,y_train.values.ravel())\n",
    "prediction_ada = ada.predict(X_test_standarized)\n",
    "prediction_prob = ada.predict_proba(X_test_standarized)\n",
    "print('Accuracy:', accuracy_score(y_test,prediction_ada))\n",
    "print('AUC:',roc_auc_score(y_test,prediction_ada))\n",
    "print('Recall Score:',recall_score(y_test,prediction_ada))\n",
    "\n",
    "cm_ada = confusion_matrix(y_test, prediction_ada)\n",
    "ConfusionMatrixDisplay(cm_ada).plot()"
   ]
  },
  {
   "cell_type": "code",
   "execution_count": null,
   "metadata": {
    "colab": {
     "base_uri": "https://localhost:8080/"
    },
    "id": "xLk5uJMbrQgL",
    "outputId": "a83af9e2-901e-4d68-f675-6998962f4594"
   },
   "outputs": [],
   "source": [
    "print(ada.get_params())"
   ]
  },
  {
   "cell_type": "code",
   "execution_count": null,
   "metadata": {
    "colab": {
     "base_uri": "https://localhost:8080/",
     "height": 344
    },
    "id": "S2Kd_cTYrnc8",
    "outputId": "681daa75-e573-4e76-a217-380070f987c6"
   },
   "outputs": [],
   "source": [
    "from sklearn.ensemble import AdaBoostClassifier\n",
    "ada = AdaBoostClassifier( n_estimators=100)\n",
    "ada.fit(X_train_standarized,y_train.values.ravel())\n",
    "prediction_ada = ada.predict(X_test_standarized)\n",
    "prediction_prob = ada.predict_proba(X_test_standarized)\n",
    "print('Accuracy:', accuracy_score(y_test,prediction_ada))\n",
    "print('AUC:',roc_auc_score(y_test,prediction_ada))\n",
    "print('Recall Score:',recall_score(y_test,prediction_ada))\n",
    "\n",
    "cm_ada = confusion_matrix(y_test, prediction_ada)\n",
    "ConfusionMatrixDisplay(cm_ada).plot()"
   ]
  },
  {
   "cell_type": "code",
   "execution_count": null,
   "metadata": {
    "colab": {
     "base_uri": "https://localhost:8080/"
    },
    "id": "ik14Zj5dr2Pb",
    "outputId": "40ecf875-14c9-4b18-f826-9e5879d659fc"
   },
   "outputs": [],
   "source": [
    "print(ada.get_params())"
   ]
  },
  {
   "cell_type": "code",
   "execution_count": null,
   "metadata": {
    "colab": {
     "base_uri": "https://localhost:8080/"
    },
    "id": "uYUNAudOsEcB",
    "outputId": "215017b3-ac6f-4190-bb4f-02c62ac00a64"
   },
   "outputs": [],
   "source": [
    "for c, column in enumerate(X_test.columns):\n",
    "    if ada.feature_importances_[c] in sorted(ada.feature_importances_)[-5:]:\n",
    "        print('Variable',column,ada.feature_importances_[c])"
   ]
  },
  {
   "cell_type": "markdown",
   "metadata": {
    "id": "_CWYw_R9V0kb"
   },
   "source": [
    "AdaBoost Hyperparameter tuning"
   ]
  },
  {
   "cell_type": "code",
   "execution_count": null,
   "metadata": {
    "colab": {
     "base_uri": "https://localhost:8080/"
    },
    "id": "0pZXklSWV0kb",
    "outputId": "62ccfea6-e403-453e-8dbc-5c9a21c764ce"
   },
   "outputs": [],
   "source": [
    "# define the model with default hyperparameters\n",
    "model = AdaBoostClassifier()\n",
    "# define the grid of values to search\n",
    "grid = dict()\n",
    "grid['n_estimators'] = [50,75,100,150]\n",
    "# define the evaluation procedure\n",
    "cv = KFold(3)\n",
    "# define the grid search procedure\n",
    "grid_search = GridSearchCV(estimator=model, param_grid=grid, cv=cv, scoring='recall')\n",
    "# execute the grid search\n",
    "grid_result = grid_search.fit(X_train_standarized, y_train)\n",
    "prediction = grid_result.predict(X_test_standarized)\n",
    "best_classifier = grid_search.best_estimator_\n",
    "print('Best classifier:',best_classifier)\n",
    "print(np.sqrt(mean_squared_error(y_test, prediction)))\n",
    "# summarize the best score and configuration\n",
    "print(\"Best: %f using %s\" % (grid_result.best_score_, grid_result.best_params_))\n",
    "# summarize all scores that were evaluated\n",
    "means = grid_result.cv_results_['mean_test_score']\n",
    "stds = grid_result.cv_results_['std_test_score']\n",
    "params = grid_result.cv_results_['params']\n",
    "for mean, stdev, param in zip(means, stds, params):\n",
    "    print(\"%f (%f) with: %r\" % (mean, stdev, param))"
   ]
  },
  {
   "cell_type": "code",
   "execution_count": null,
   "metadata": {
    "colab": {
     "base_uri": "https://localhost:8080/",
     "height": 344
    },
    "id": "T3Gqk4OIAfkf",
    "outputId": "53a922b0-0e8a-4893-ec2e-3eec4159da91"
   },
   "outputs": [],
   "source": [
    "from sklearn.ensemble import AdaBoostClassifier\n",
    "ada_postcv = AdaBoostClassifier(n_estimators=75)\n",
    "ada_postcv.fit(X_train_standarized,y_train.values.ravel())\n",
    "prediction_adapostcv = ada_postcv.predict(X_test_standarized)\n",
    "prediction_probpostcv = ada_postcv.predict_proba(X_test_standarized)\n",
    "print('Accuracy:', accuracy_score(y_test,prediction_adapostcv))\n",
    "print('AUC:',roc_auc_score(y_test,prediction_adapostcv))\n",
    "print('Recall Score:',recall_score(y_test,prediction_adapostcv))\n",
    "\n",
    "cm_adapostcv = confusion_matrix(y_test, prediction_adapostcv)\n",
    "ConfusionMatrixDisplay(cm_adapostcv).plot()"
   ]
  },
  {
   "cell_type": "markdown",
   "metadata": {
    "id": "IfJa0ZzaV0kb"
   },
   "source": [
    "Random Forest"
   ]
  },
  {
   "cell_type": "code",
   "execution_count": null,
   "metadata": {
    "colab": {
     "base_uri": "https://localhost:8080/"
    },
    "id": "bcNOT25kV0kb",
    "outputId": "5f7b374a-7a6e-4105-ad81-34df07ce8de4"
   },
   "outputs": [],
   "source": [
    "rf = RandomForestClassifier(n_estimators=100)\n",
    "rf.fit(X_train_standarized,y_train.values.ravel())\n",
    "prediction_random_forest = rf.predict(X_test_standarized)\n",
    "print('Accuracy:', accuracy_score(y_test,prediction_random_forest))\n",
    "print('AUC:',roc_auc_score(y_test,prediction_random_forest))\n",
    "print('Recall Score:',recall_score(y_test,prediction_random_forest))"
   ]
  },
  {
   "cell_type": "code",
   "execution_count": null,
   "metadata": {
    "colab": {
     "base_uri": "https://localhost:8080/",
     "height": 295
    },
    "id": "80RNFxnEV0kc",
    "outputId": "17f8b2bd-a434-40d9-e385-d0674cb7d6e5"
   },
   "outputs": [],
   "source": [
    "cm_rf = confusion_matrix(y_test, prediction_random_forest)\n",
    "ConfusionMatrixDisplay(cm_rf).plot()"
   ]
  },
  {
   "cell_type": "code",
   "execution_count": null,
   "metadata": {
    "colab": {
     "base_uri": "https://localhost:8080/"
    },
    "id": "xphBcCxjsQCs",
    "outputId": "7b30731f-9c1c-4da3-9247-4d8f55dc7de1"
   },
   "outputs": [],
   "source": [
    "for c, column in enumerate(X_test.columns):\n",
    "    if rf.feature_importances_[c] in sorted(rf.feature_importances_)[-5:]:\n",
    "        print('Variable',column,rf.feature_importances_[c])"
   ]
  },
  {
   "cell_type": "markdown",
   "metadata": {
    "id": "8eP-Mo3BV0kc"
   },
   "source": [
    "### Cancellation Classification"
   ]
  },
  {
   "cell_type": "code",
   "execution_count": null,
   "metadata": {
    "id": "tRSBLoOmV0kc"
   },
   "outputs": [],
   "source": [
    "df = pd.read_csv('Flight_Data_Cancellation.csv')"
   ]
  },
  {
   "cell_type": "code",
   "execution_count": null,
   "metadata": {
    "id": "oZFrTn4hV0kc"
   },
   "outputs": [],
   "source": [
    "#performed same data cleaning and transformations as above.\n",
    "to_remove = ['Unnamed: 0','UniqueCarrier', 'ArrDelay', 'DepTime','DepDelay','TaxiOut', 'ActualElapsedTime', 'AirTime', 'ArrTime', 'TaxiIn', 'CancellationCode', 'CarrierDelay', 'WeatherDelay', 'NASDelay', 'SecurityDelay', 'LateAircraftDelay', 'Diverted']\n",
    "df = remove_columns(df, to_remove)\n",
    "convert_to_hour(df, time_to_hours)\n",
    "df['CRSDepTime'] = pd.qcut(df['CRSDepTime'], 8)\n",
    "df['CRSArrTime'] = pd.qcut(df['CRSArrTime'], 8)\n",
    "df['FleetNum'] = df['TailNum'].str.replace(r'\\D', '').astype(int)\n",
    "df = df.drop(['FlightNum', 'TailNum', 'DayofMonth'], axis=1)\n",
    "df = make_dummies(df,'Origin','Origin_')\n",
    "df = make_dummies(df,'Month','Month_')\n",
    "df = make_dummies(df,'Dest','Dest_')\n",
    "df = make_dummies(df,'DayOfWeek','Day_')\n",
    "df = make_dummies(df,'CRSDepTime','CRSDepTime_')\n",
    "df = make_dummies(df,'CRSArrTime','CRSArrTime_')"
   ]
  },
  {
   "cell_type": "code",
   "execution_count": null,
   "metadata": {
    "id": "ibv4qE_-V0kc"
   },
   "outputs": [],
   "source": [
    "y = df['Cancelled']\n",
    "X = df.drop('Cancelled',axis=1)\n",
    "X_train, X_test, y_train, y_test = train_test_split(X, y, stratify=y, test_size=0.3, random_state=42)"
   ]
  },
  {
   "cell_type": "code",
   "execution_count": null,
   "metadata": {
    "id": "xsjf2UnjV0kc"
   },
   "outputs": [],
   "source": [
    "to_normalise_x = ['CRSElapsedTime', 'Distance', 'FleetNum'] \n",
    "X_test_standarized = standarise_variable(X_test, to_normalise_x)\n",
    "X_train_standarized = standarise_variable(X_train, to_normalise_x)"
   ]
  },
  {
   "cell_type": "markdown",
   "metadata": {
    "id": "aHhOSvrKV0kc"
   },
   "source": [
    "Logistic Model"
   ]
  },
  {
   "cell_type": "code",
   "execution_count": null,
   "metadata": {
    "id": "b-j3-dBvV0kc"
   },
   "outputs": [],
   "source": [
    "logictic_model = LogisticRegression(solver='liblinear').fit(X_train_standarized,y_train)\n",
    "predictions_non_tuned_model = logictic_model.predict(X_test_standarized)"
   ]
  },
  {
   "cell_type": "code",
   "execution_count": null,
   "metadata": {
    "colab": {
     "base_uri": "https://localhost:8080/",
     "height": 118
    },
    "id": "5EbRAG4GV0kc",
    "outputId": "698e0bfc-a0c0-4845-8ca2-ebad5634b443"
   },
   "outputs": [],
   "source": [
    "print(\"Accuracy traditional model: \"+str(accuracy(y_test,predictions_non_tuned_model)))\n",
    "print('AUC:',roc_auc_score(y_test,predictions_non_tuned_model))\n",
    "print('Recall Score:',recall_score(y_test,predictions_non_tuned_model))\n",
    "\n",
    "cm_logi = confusion_matrix(y_test, predictions_non_tuned_model)\n",
    "ConfusionMatrixDisplay(cm_logi).plot()"
   ]
  },
  {
   "cell_type": "markdown",
   "metadata": {
    "id": "4HKizI-lV0kd"
   },
   "source": [
    "AdaBoost"
   ]
  },
  {
   "cell_type": "code",
   "execution_count": null,
   "metadata": {
    "colab": {
     "base_uri": "https://localhost:8080/"
    },
    "id": "s2r1HREPV0kd",
    "outputId": "07283a7a-dbff-40f8-9d5c-74af02a35baa"
   },
   "outputs": [],
   "source": [
    "from sklearn.ensemble import AdaBoostClassifier\n",
    "ada = AdaBoostClassifier()\n",
    "ada.fit(X_train_standarized,y_train.values.ravel())\n",
    "prediction_ada = ada.predict(X_test_standarized)\n",
    "prediction_prob = ada.predict_proba(X_test_standarized)\n",
    "print('Accuracy:', accuracy_score(y_test,prediction_ada))\n",
    "print('AUC:',roc_auc_score(y_test,prediction_ada))\n",
    "print('Recall Score:',recall_score(y_test,prediction_ada))"
   ]
  },
  {
   "cell_type": "code",
   "execution_count": null,
   "metadata": {
    "colab": {
     "base_uri": "https://localhost:8080/",
     "height": 69
    },
    "id": "Yyeml676V0kd",
    "outputId": "8506c4be-cd18-40b1-d3b0-1f12ee5a8093"
   },
   "outputs": [],
   "source": [
    "cm_ada = confusion_matrix(y_test, prediction_ada)\n",
    "ConfusionMatrixDisplay(cm_ada).plot()"
   ]
  },
  {
   "cell_type": "markdown",
   "metadata": {
    "id": "dFJvvYqEV0kd"
   },
   "source": [
    "Random Forest"
   ]
  },
  {
   "cell_type": "code",
   "execution_count": null,
   "metadata": {
    "colab": {
     "base_uri": "https://localhost:8080/"
    },
    "id": "5WmibAHBV0kd",
    "outputId": "b00d350f-3a7c-44e0-a2b3-316bb79ca34d"
   },
   "outputs": [],
   "source": [
    "rf = RandomForestClassifier(n_estimators=100)\n",
    "rf.fit(X_train_standarized,y_train.values.ravel())\n",
    "prediction_random_forest = rf.predict(X_test_standarized)\n",
    "print('Accuracy:', accuracy_score(y_test,prediction_random_forest))\n",
    "print('AUC:',roc_auc_score(y_test,prediction_random_forest))\n",
    "print('Recall Score:',recall_score(y_test,prediction_random_forest))"
   ]
  },
  {
   "cell_type": "code",
   "execution_count": null,
   "metadata": {
    "colab": {
     "base_uri": "https://localhost:8080/",
     "height": 69
    },
    "id": "_SMJEKGdV0kd",
    "outputId": "50449566-5fbf-4b3d-fa21-88c418fd0d0a"
   },
   "outputs": [],
   "source": [
    "cm_rf = confusion_matrix(y_test, prediction_random_forest)\n",
    "ConfusionMatrixDisplay(cm_rf).plot()"
   ]
  }
 ],
 "metadata": {
  "accelerator": "GPU",
  "colab": {
   "collapsed_sections": [
    "XUiN-1uxV0j5",
    "VNyP1A4bV0kG",
    "S17qsFuxV0kH",
    "kWzBJZsMV0kI",
    "x9xx7ytLV0kP",
    "D6H0A3QGV0kR",
    "bEoORMMkV0kS",
    "KQJyhd6lV0kT",
    "v7WtdwSFV0ka",
    "8eP-Mo3BV0kc"
   ],
   "name": "Predictive Analytics Individual Assignment-2.ipynb",
   "provenance": []
  },
  "kernelspec": {
   "display_name": "Python 3 (ipykernel)",
   "language": "python",
   "name": "python3"
  },
  "language_info": {
   "codemirror_mode": {
    "name": "ipython",
    "version": 3
   },
   "file_extension": ".py",
   "mimetype": "text/x-python",
   "name": "python",
   "nbconvert_exporter": "python",
   "pygments_lexer": "ipython3",
   "version": "3.9.2"
  }
 },
 "nbformat": 4,
 "nbformat_minor": 1
}
